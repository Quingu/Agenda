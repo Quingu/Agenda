{
  "nbformat": 4,
  "nbformat_minor": 0,
  "metadata": {
    "colab": {
      "provenance": [],
      "include_colab_link": true
    },
    "kernelspec": {
      "name": "python3",
      "display_name": "Python 3"
    },
    "language_info": {
      "name": "python"
    }
  },
  "cells": [
    {
      "cell_type": "markdown",
      "metadata": {
        "id": "view-in-github",
        "colab_type": "text"
      },
      "source": [
        "<a href=\"https://colab.research.google.com/github/Quingu/Agenda/blob/main/Spore_print_color_Toxicidade.ipynb\" target=\"_parent\"><img src=\"https://colab.research.google.com/assets/colab-badge.svg\" alt=\"Open In Colab\"/></a>"
      ]
    },
    {
      "cell_type": "markdown",
      "source": [
        "# 0) Importação e configurações Globais"
      ],
      "metadata": {
        "id": "o8wg3aEKxyRQ"
      }
    },
    {
      "cell_type": "code",
      "execution_count": null,
      "metadata": {
        "id": "67IQ5Qmlutwc"
      },
      "outputs": [],
      "source": [
        "# Importando bibliotecas e definindo configurações globais\n",
        "from sklearn import datasets\n",
        "from sklearn.model_selection import train_test_split, StratifiedKFold, cross_val_score, GridSearchCV\n",
        "from sklearn.svm import SVC\n",
        "from sklearn.metrics import accuracy_score, ConfusionMatrixDisplay\n",
        "import numpy as np\n",
        "import matplotlib.pyplot as plt\n",
        "import pandas as pd\n",
        "\n",
        "# Definindo uma semente para reprodutibilidade\n",
        "RANDOM_STATE = 42\n",
        "# Configurando a validação cruzada estratificada\n",
        "cv = StratifiedKFold(n_splits=5, shuffle=True, random_state=RANDOM_STATE)"
      ]
    },
    {
      "cell_type": "markdown",
      "source": [
        "# 1) Carregar Dataset"
      ],
      "metadata": {
        "id": "6cwdeteE5_0x"
      }
    },
    {
      "cell_type": "code",
      "source": [
        "# Carregando o dataset de cogumelos\n",
        "df=pd.read_csv('sample_data/mushroom_s6_sporeprint_ohe.csv')\n",
        "# Separando as features (X) da variável alvo (y)\n",
        "X = df.drop('class', axis=1)  # Features (todas as colunas, exceto 'class')\n",
        "y = df['class']  # Variável alvo ('class')"
      ],
      "metadata": {
        "id": "7ZXdyfR76FXN"
      },
      "execution_count": null,
      "outputs": []
    },
    {
      "cell_type": "markdown",
      "source": [
        "# 2. Divididindo os dados em treino e testes\n"
      ],
      "metadata": {
        "id": "UBgbGoaWyqa-"
      }
    },
    {
      "cell_type": "code",
      "source": [
        "# Dividindo os dados em conjuntos de treino e teste (80% treino, 20% teste)\n",
        "X_train, X_test, y_train, y_test = train_test_split(\n",
        "    X, y, test_size=0.2, random_state=RANDOM_STATE, stratify=y\n",
        ")\n",
        "\n",
        "# Imprimindo as formas dos conjuntos de treino e teste\n",
        "print(\"Formas:\", \"X_train\", X_train.shape, \"| X_test\", X_test.shape)\n",
        "# Verificando a distribuição das classes nos conjuntos de treino e teste\n",
        "# A variável alvo 'y' contém strings ('e' e 'p'), então usamos value_counts()\n",
        "print(\"Distribuição de classes (treino):\", y_train.value_counts())\n",
        "print(\"Distribuição de classes (teste) :\", y_test.value_counts())"
      ],
      "metadata": {
        "id": "aVIjEv810BRa",
        "outputId": "29b049f3-a2d6-4984-bfdb-90bb9bf76f48",
        "colab": {
          "base_uri": "https://localhost:8080/"
        }
      },
      "execution_count": null,
      "outputs": [
        {
          "output_type": "stream",
          "name": "stdout",
          "text": [
            "Formas: X_train (6499, 9) | X_test (1625, 9)\n",
            "Distribuição de classes (treino): class\n",
            "e    3366\n",
            "p    3133\n",
            "Name: count, dtype: int64\n",
            "Distribuição de classes (teste) : class\n",
            "e    842\n",
            "p    783\n",
            "Name: count, dtype: int64\n"
          ]
        }
      ]
    },
    {
      "cell_type": "code",
      "source": [],
      "metadata": {
        "id": "odPFuE9fG6f1"
      },
      "execution_count": null,
      "outputs": []
    },
    {
      "cell_type": "markdown",
      "source": [
        "# 3) Implementar um SVM com GridSearchCV, testando diferentes valores de Kernel, C e gamma.\n"
      ],
      "metadata": {
        "id": "GBHlzaHf6c_r"
      }
    },
    {
      "cell_type": "code",
      "source": [
        "# Configurando o GridSearchCV para testar diferentes kernels e parâmetros\n",
        "# Definindo a grade de parâmetros para o GridSearchCV, incluindo diferentes kernels\n",
        "param_grid = [\n",
        "    {'kernel': ['linear'], 'C': [0.1, 1, 10, 100]}, # Parâmetros para o kernel linear\n",
        "    {'kernel': ['rbf'], 'C': [0.1, 1, 10, 100], 'gamma': ['scale', 'auto', 0.1, 1]}, # Parâmetros para o kernel RBF\n",
        "    {'kernel': ['poly'], 'C': [0.1, 1, 10, 100], 'degree': [2, 3, 4], 'gamma': ['scale', 'auto', 0.1, 1]}, # Parâmetros para o kernel polinomial\n",
        "    {'kernel': ['sigmoid'], 'C': [0.1, 1, 10, 100], 'gamma': ['scale', 'auto', 0.1, 1]} # Parâmetros para o kernel sigmoid\n",
        "]\n",
        "\n",
        "\n",
        "# Configurando e executando o GridSearchCV com múltiplos kernels\n",
        "# n_jobs=-1 utiliza todos os processadores disponíveis\n",
        "gs = GridSearchCV(\n",
        "    SVC(random_state=RANDOM_STATE), # Modelo SVM\n",
        "    param_grid=param_grid, # Grade de parâmetros a serem testados\n",
        "    cv=cv, # Estratégia de validação cruzada\n",
        "    scoring='accuracy', # Métrica de avaliação\n",
        "    n_jobs=-1 # Usar todos os núcleos disponíveis\n",
        ")\n",
        "gs.fit(X_train, y_train) # Treinando o GridSearchCV com os dados de treino\n",
        "\n",
        "# Imprimindo os melhores parâmetros encontrados pelo GridSearchCV\n",
        "print(f\"Melhores parâmetros (GridSearch com múltiplos kernels): {gs.best_params_}\")\n",
        "# Imprimindo a melhor acurácia encontrada durante a validação cruzada\n",
        "print(f\"Melhor acurácia cross-validation (GridSearch com múltiplos kernels): {gs.best_score_*100:.2f}%\")\n",
        "\n",
        "# Avaliando o modelo com os melhores parâmetros no conjunto de teste\n",
        "best_model = gs.best_estimator_ # Obtendo o melhor modelo treinado\n",
        "y_pred = best_model.predict(X_test) # Fazendo previsões no conjunto de teste\n",
        "acc = accuracy_score(y_test, y_pred) # Calculando a acurácia no conjunto de teste\n",
        "print(f\"Acurácia no conjunto de teste (melhor modelo): {acc*100:.2f}%\")\n",
        "\n",
        "# Exibindo alguns exemplos de previsões\n",
        "print(\"Preditos (10):\", y_pred[:10])\n",
        "print(\"Reais    (10):\", y_test[:10].values) # Convertendo para numpy array para melhor visualização\n",
        "\n",
        "# Exibindo a matriz de confusão para o melhor modelo encontrado\n",
        "# display_labels define os rótulos dos eixos da matriz de confusão\n",
        "ConfusionMatrixDisplay.from_predictions(y_test, y_pred, display_labels=['e', 'p'])\n",
        "plt.title(\"Matriz de Confusão (Melhor Modelo - GridSearchCV)\") # Título do gráfico\n",
        "plt.show() # Exibindo o gráfico"
      ],
      "metadata": {
        "id": "QQaULUsD6tzc"
      },
      "execution_count": null,
      "outputs": []
    },
    {
      "cell_type": "markdown",
      "source": [
        "#4) Discussão dos resultados, explicando o que foi observado no cenário atribuído.\n",
        "\n",
        "O Grid Search identificou o kernel linear com C=0.1 como a melhor configuração de SVM para este dataset usando as features de \"spore-print-color\".\n",
        "A acurácia obtida com o melhor modelo foi de aproximadamente 86.92% na validação cruzada e 86.34% no conjunto de teste.\n",
        "A matriz de confusão mostrou que, embora o modelo classifique a maioria dos cogumelos corretamente, ainda existem falsos negativos (100 casos), onde cogumelos venenosos foram classificados como comestíveis.\n",
        "A presença de falsos negativos sugere que, apesar da boa acurácia geral com as features de cor do pó de esporos, esta característica sozinha pode não ser suficiente para uma classificação completamente segura e confiável para distinguir cogumelos comestíveis de venenosos. Seria necessário considerar outras características do dataset para melhorar a performance e reduzir os falsos negativos."
      ],
      "metadata": {
        "id": "BtpS7_JjFEFF"
      }
    }
  ]
}